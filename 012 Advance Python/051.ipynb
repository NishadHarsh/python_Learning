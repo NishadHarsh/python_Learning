{
 "cells": [
  {
   "cell_type": "code",
   "execution_count": 4,
   "metadata": {},
   "outputs": [],
   "source": [
    "def square(n):\n",
    "    for i in range(3):\n",
    "        yield i**2"
   ]
  },
  {
   "cell_type": "code",
   "execution_count": 5,
   "metadata": {},
   "outputs": [
    {
     "data": {
      "text/plain": [
       "<generator object square at 0x0000016DE5FEEDC0>"
      ]
     },
     "execution_count": 5,
     "metadata": {},
     "output_type": "execute_result"
    }
   ],
   "source": [
    "square(3)"
   ]
  },
  {
   "cell_type": "code",
   "execution_count": 6,
   "metadata": {},
   "outputs": [
    {
     "name": "stdout",
     "output_type": "stream",
     "text": [
      "0\n",
      "1\n",
      "4\n"
     ]
    }
   ],
   "source": [
    "for i in square(3):\n",
    "    print(i)"
   ]
  },
  {
   "cell_type": "code",
   "execution_count": 14,
   "metadata": {},
   "outputs": [],
   "source": [
    "def my_generator():\n",
    "    yield 1\n",
    "    yield 2\n",
    "    yield 3"
   ]
  },
  {
   "cell_type": "code",
   "execution_count": 15,
   "metadata": {},
   "outputs": [
    {
     "data": {
      "text/plain": [
       "<generator object my_generator at 0x0000016DE5B2B950>"
      ]
     },
     "execution_count": 15,
     "metadata": {},
     "output_type": "execute_result"
    }
   ],
   "source": [
    "gen = my_generator()\n",
    "gen"
   ]
  },
  {
   "cell_type": "code",
   "execution_count": 13,
   "metadata": {},
   "outputs": [
    {
     "ename": "StopIteration",
     "evalue": "",
     "output_type": "error",
     "traceback": [
      "\u001b[1;31m---------------------------------------------------------------------------\u001b[0m",
      "\u001b[1;31mStopIteration\u001b[0m                             Traceback (most recent call last)",
      "Cell \u001b[1;32mIn[13], line 1\u001b[0m\n\u001b[1;32m----> 1\u001b[0m \u001b[38;5;28;43mnext\u001b[39;49m\u001b[43m(\u001b[49m\u001b[43mgen\u001b[49m\u001b[43m)\u001b[49m\n",
      "\u001b[1;31mStopIteration\u001b[0m: "
     ]
    }
   ],
   "source": [
    "next(gen)"
   ]
  },
  {
   "cell_type": "code",
   "execution_count": 16,
   "metadata": {},
   "outputs": [
    {
     "name": "stdout",
     "output_type": "stream",
     "text": [
      "1\n",
      "2\n",
      "3\n"
     ]
    }
   ],
   "source": [
    "for val in gen:\n",
    "    print(val)"
   ]
  },
  {
   "cell_type": "code",
   "execution_count": 19,
   "metadata": {},
   "outputs": [],
   "source": [
    "### Practical: Reading Large files.\n",
    "\n",
    "def read_large_files(file_path):\n",
    "    with open(file_path, 'r') as file:\n",
    "        for line in file:\n",
    "            yield line"
   ]
  },
  {
   "cell_type": "code",
   "execution_count": 20,
   "metadata": {},
   "outputs": [
    {
     "name": "stdout",
     "output_type": "stream",
     "text": [
      "Lodha or Macrotech Developers (formerly known as Lodha Developers) is an Indian multinational real estate company and construction company headquartered in Mumbai, India.[2] It was founded in 1980 by Mangal Prabhat Lodha.[3] It has developed residential and commercial properties in Mumbai, Thane, Hyderabad, Pune and London.\n",
      "\n",
      "Some of its notable projects include Lodha Altamount, The World Towers, Lodha Bellissimo, Trump Tower Mumbai and Lodha Park.[4][3][5] The company is also credited for developing Palava, an integrated smart city in Dombivali near Mumbai.[6][7] The company was listed as Macrotech Developers on 19 April 2021.[8][9]\n",
      "\n",
      "Lodha Group was established by 1980 by Mangal Lodha, a businessman[10] and politician, who serves as Member of Legislative Assembly.[11]\n",
      "\n",
      "In September 2007, the Deutsche Bank made an investment of ₹1,640 crore (US$189 million) by subscribing to the compulsorily convertible debentures (CCDs) of Lodha's subsidiary, Cowtown Land Development Limited.[12]\n",
      "\n",
      "In May 2010, the company emerged the highest bidder to acquire a 22.5-acre plot in Wadala, Mumbai, for ₹4,053 crore (US$468 million) from Mumbai Metropolitan Region Development Authority (MMRDA).[13][14]\n",
      "\n",
      "In December 2012, Lodha Group acquired Washington House, a residential building owned by the US consulate on Altamont Road, for ₹341.82 crore (US$39 million).[15] Which was developed into Lodha Altamount.[citation needed]\n",
      "\n",
      "It purchased 17 acres of land in Mumbai's prime location from DLF[16] for about ₹2,700 crore (US$312 million), nearly four times higher than the price at which DLF had bought the land in 2005.[17]\n"
     ]
    }
   ],
   "source": [
    "file_path = 'large_file.txt'\n",
    "\n",
    "for line in read_large_files(file_path):\n",
    "    print(line.strip())"
   ]
  },
  {
   "cell_type": "code",
   "execution_count": null,
   "metadata": {},
   "outputs": [],
   "source": []
  }
 ],
 "metadata": {
  "kernelspec": {
   "display_name": "Python 3",
   "language": "python",
   "name": "python3"
  },
  "language_info": {
   "codemirror_mode": {
    "name": "ipython",
    "version": 3
   },
   "file_extension": ".py",
   "mimetype": "text/x-python",
   "name": "python",
   "nbconvert_exporter": "python",
   "pygments_lexer": "ipython3",
   "version": "3.12.1"
  }
 },
 "nbformat": 4,
 "nbformat_minor": 2
}
